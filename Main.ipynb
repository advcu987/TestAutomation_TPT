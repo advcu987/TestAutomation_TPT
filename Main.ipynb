{
 "cells": [
  {
   "cell_type": "code",
   "execution_count": null,
   "metadata": {
    "scrolled": true
   },
   "outputs": [],
   "source": [
    "import helper_functions as H\n",
    "import xml.etree.ElementTree as ET\n",
    "import pprint as pp"
   ]
  },
  {
   "cell_type": "code",
   "execution_count": null,
   "metadata": {},
   "outputs": [],
   "source": [
    "xmlfile = \"Interfaces.xml\""
   ]
  },
  {
   "cell_type": "code",
   "execution_count": null,
   "metadata": {},
   "outputs": [],
   "source": [
    "# create element tree object \n",
    "tree = ET.parse(xmlfile) \n",
    "\n",
    "# get root element \n",
    "root = tree.getroot() \n",
    "\n",
    "# create empty list for news items \n",
    "signals = {}\n",
    "\n",
    "# iterate news items \n",
    "for item in root.findall('./InputSignals/Signal'): \n",
    "    \n",
    "#     print(item.attrib['Name'])\n",
    "    signals[item.attrib['Name']] = [item.attrib['BaseType'], '']\n",
    "    \n",
    "pp.pprint(signals)"
   ]
  },
  {
   "cell_type": "code",
   "execution_count": null,
   "metadata": {},
   "outputs": [],
   "source": [
    "signals = {'olp crane function 1b': 'itf_In_AOR_str_aorIn_OLP_craneFunction_craneFunction_firstBoom',\n",
    " 'olp dump1 request': 'itf_In_AOR_str_aorIn_OLP_ctrlDump_val',\n",
    " 'olp dump1 spool pos 1b lim': 'itf_In_AOR_str_aorIn_OLP_DumpSpoolPos1BLim_val',\n",
    " 'olp state 1b': 'itf_In_AOR_str_aorIn_OLP_olpState1B_val',\n",
    " 'rclh crane function 1b': 'itf_In_AOR_str_aorIn_RCLH_craneFunction_craneFunction_firstBoom',\n",
    " 'rel spool pos 1b': 'itf_In_AOR_str_aorIn_LPLC_actualCap1B_val',\n",
    " 'remote control mode': 'itf_In_AOR_str_aorIn_RCUI_rcMode_rcMode_rcMode',\n",
    " 'sensor variant 1b angle': 'itf_In_AOR_str_aorIn_ANG_variant_angVariants_variant1B',\n",
    " 'stationary mode': 'itf_In_AOR_str_aorIn_SMOD_stationaryMode_val'}\n"
   ]
  },
  {
   "cell_type": "code",
   "execution_count": null,
   "metadata": {},
   "outputs": [],
   "source": [
    "# def parse_testSpec(filename):\n",
    "\n",
    "filename = 'MBI_Component_Test_Specification.md'\n",
    "\n",
    "with open(filename, 'r') as reader:\n",
    "    print(f'file {filename} opened')\n",
    "    testFound = -1\n",
    "    data = reader.readlines()\n",
    "    TC_list = []\n",
    "    for line in data:\n",
    "        print(line)\n",
    "        isFound = H.isHeaderType(0, line)\n",
    "        if isFound:\n",
    "            testFound = testFound + 1\n",
    "            TC_list.append([line])\n",
    "        else:\n",
    "            if testFound > -1:\n",
    "                TC_list[testFound].append(line)"
   ]
  },
  {
   "cell_type": "code",
   "execution_count": null,
   "metadata": {},
   "outputs": [],
   "source": [
    "TC_list[1]"
   ]
  },
  {
   "cell_type": "code",
   "execution_count": null,
   "metadata": {},
   "outputs": [],
   "source": [
    "missingSignals = []\n",
    "signals = []"
   ]
  },
  {
   "cell_type": "code",
   "execution_count": null,
   "metadata": {},
   "outputs": [],
   "source": [
    "for TC in TC_list:\n",
    "    \n",
    "    # Initialize flags\n",
    "    test_precondFound = False\n",
    "    test_descrFound = False\n",
    "    test_bodyObj_pre = None\n",
    "    test_bodyObj_descr = None\n",
    "\n",
    "    \n",
    "    # Extract the name of the testcase from the first line\n",
    "    test_name = TC[0][8:-3]\n",
    "    \n",
    "    test_obj = H.init_Test(test_name)\n",
    "    \n",
    "    # Loop through all the lines in the testcase\n",
    "    for line in TC:\n",
    "\n",
    "        print(line)\n",
    "        \n",
    "        if line == '\\n':\n",
    "            continue\n",
    "\n",
    "        # Check if Preconditions part is found \n",
    "        if H.isHeaderType(1, line):\n",
    "            \n",
    "            # Set flags\n",
    "            test_precondFound = True\n",
    "            \n",
    "            continue\n",
    "            \n",
    "        # Check if Test Description part is found \n",
    "        if H.isHeaderType(2, line):\n",
    "            \n",
    "            # Set flags\n",
    "            test_descrFound = True\n",
    "            test_precondFound = False\n",
    "                    \n",
    "            continue\n",
    "\n",
    "        if test_descrFound:\n",
    "            \n",
    "            # add a step of type 1 (test step) in the C body\n",
    "            H.addTPTStep(1, test_obj, line, signals, missingSignals)\n",
    "            \n",
    "            continue            \n",
    "            \n",
    "        if test_precondFound:\n",
    "            \n",
    "            # add a step of type 0 (precondition) in the C body\n",
    "            H.addTPTStep(0, test_obj, line, signals, missingSignals)\n",
    "            \n",
    "            continue\n",
    "                        \n",
    "    H.write_TCtoFile(test_name, test_obj)\n",
    "    \n",
    "#     break\n"
   ]
  },
  {
   "cell_type": "code",
   "execution_count": null,
   "metadata": {},
   "outputs": [],
   "source": [
    "pp.pprint(test_obj)"
   ]
  },
  {
   "cell_type": "code",
   "execution_count": null,
   "metadata": {},
   "outputs": [],
   "source": [
    "import pprint as pp\n",
    "pp.pprint(missingSignals)\n",
    "pp.pprint(signals)"
   ]
  },
  {
   "cell_type": "code",
   "execution_count": null,
   "metadata": {},
   "outputs": [],
   "source": [
    "signals={'itf_In_AOR_str_aorIn_ANG_variant_angVariants_variant1B': 'sensor variant 1b angle',\n",
    " 'itf_In_AOR_str_aorIn_ANG_variant_angVariants_variant2B': '',\n",
    " 'itf_In_AOR_str_aorIn_ANG_variant_angVariants_variant3B': '',\n",
    " 'itf_In_AOR_str_aorIn_ANG_variant_angVariants_variant4B': '',\n",
    " 'itf_In_AOR_str_aorIn_ANG_variant_angVariants_variantCol': '',\n",
    " 'itf_In_AOR_str_aorIn_ANG_variant_status': '',\n",
    " 'itf_In_AOR_str_aorIn_APPEH_errorStates_errorStates_angleErrorState': '',\n",
    " 'itf_In_AOR_str_aorIn_APPEH_errorStates_errorStates_errorAckState': '',\n",
    " 'itf_In_AOR_str_aorIn_APPEH_errorStates_errorStates_lenErrorState': '',\n",
    " 'itf_In_AOR_str_aorIn_APPEH_errorStates_errorStates_pressBoomErrorState': '',\n",
    " 'itf_In_AOR_str_aorIn_APPEH_errorStates_errorStates_pressStabErrorState': '',\n",
    " 'itf_In_AOR_str_aorIn_APPEH_errorStates_status': '',\n",
    " 'itf_In_AOR_str_aorIn_LPLC_actualCap1B_status': '',\n",
    " 'itf_In_AOR_str_aorIn_LPLC_actualCap1B_val': 'rel spool pos 1b',\n",
    " 'itf_In_AOR_str_aorIn_OLP_DumpSpoolPos1BLim_status': '',\n",
    " 'itf_In_AOR_str_aorIn_OLP_DumpSpoolPos1BLim_val': 'olp dump1 spool pos 1b lim',\n",
    " 'itf_In_AOR_str_aorIn_OLP_craneFunction_craneFunction_column': '',\n",
    " 'itf_In_AOR_str_aorIn_OLP_craneFunction_craneFunction_firstBoom': 'olp crane function 1b',\n",
    " 'itf_In_AOR_str_aorIn_OLP_craneFunction_craneFunction_firstBoomExt': '',\n",
    " 'itf_In_AOR_str_aorIn_OLP_craneFunction_craneFunction_fourthBoom': '',\n",
    " 'itf_In_AOR_str_aorIn_OLP_craneFunction_craneFunction_fourthBoomExt': '',\n",
    " 'itf_In_AOR_str_aorIn_OLP_craneFunction_craneFunction_hoist': '',\n",
    " 'itf_In_AOR_str_aorIn_OLP_craneFunction_craneFunction_secondBoom': '',\n",
    " 'itf_In_AOR_str_aorIn_OLP_craneFunction_craneFunction_secondBoomExt': '',\n",
    " 'itf_In_AOR_str_aorIn_OLP_craneFunction_craneFunction_slew': '',\n",
    " 'itf_In_AOR_str_aorIn_OLP_craneFunction_craneFunction_thirdBoom': '',\n",
    " 'itf_In_AOR_str_aorIn_OLP_craneFunction_craneFunction_thirdBoomExt': '',\n",
    " 'itf_In_AOR_str_aorIn_OLP_craneFunction_craneFunction_tool1': '',\n",
    " 'itf_In_AOR_str_aorIn_OLP_craneFunction_craneFunction_tool2': '',\n",
    " 'itf_In_AOR_str_aorIn_OLP_craneFunction_craneFunction_tool3': '',\n",
    " 'itf_In_AOR_str_aorIn_OLP_craneFunction_craneFunction_tool4': '',\n",
    " 'itf_In_AOR_str_aorIn_OLP_craneFunction_status': '',\n",
    " 'itf_In_AOR_str_aorIn_OLP_ctrlDump_status': '',\n",
    " 'itf_In_AOR_str_aorIn_OLP_ctrlDump_val': 'olp dump1 request',\n",
    " 'itf_In_AOR_str_aorIn_OLP_olpState1B_status': '',\n",
    " 'itf_In_AOR_str_aorIn_OLP_olpState1B_val': 'olp state 1b',\n",
    " 'itf_In_AOR_str_aorIn_RCLH_craneFunction_craneFunction_column': '',\n",
    " 'itf_In_AOR_str_aorIn_RCLH_craneFunction_craneFunction_firstBoom': 'rclh crane function 1b',\n",
    " 'itf_In_AOR_str_aorIn_RCLH_craneFunction_craneFunction_firstBoomExt': '',\n",
    " 'itf_In_AOR_str_aorIn_RCLH_craneFunction_craneFunction_fourthBoom': '',\n",
    " 'itf_In_AOR_str_aorIn_RCLH_craneFunction_craneFunction_fourthBoomExt': '',\n",
    " 'itf_In_AOR_str_aorIn_RCLH_craneFunction_craneFunction_hoist': '',\n",
    " 'itf_In_AOR_str_aorIn_RCLH_craneFunction_craneFunction_secondBoom': '',\n",
    " 'itf_In_AOR_str_aorIn_RCLH_craneFunction_craneFunction_secondBoomExt': '',\n",
    " 'itf_In_AOR_str_aorIn_RCLH_craneFunction_craneFunction_slew': '',\n",
    " 'itf_In_AOR_str_aorIn_RCLH_craneFunction_craneFunction_thirdBoom': '',\n",
    " 'itf_In_AOR_str_aorIn_RCLH_craneFunction_craneFunction_thirdBoomExt': '',\n",
    " 'itf_In_AOR_str_aorIn_RCLH_craneFunction_craneFunction_tool1': '',\n",
    " 'itf_In_AOR_str_aorIn_RCLH_craneFunction_craneFunction_tool2': '',\n",
    " 'itf_In_AOR_str_aorIn_RCLH_craneFunction_craneFunction_tool3': '',\n",
    " 'itf_In_AOR_str_aorIn_RCLH_craneFunction_craneFunction_tool4': '',\n",
    " 'itf_In_AOR_str_aorIn_RCLH_craneFunction_status': '',\n",
    " 'itf_In_AOR_str_aorIn_RCUI_rcMode_rcMode_menu': '',\n",
    " 'itf_In_AOR_str_aorIn_RCUI_rcMode_rcMode_rcMode': 'remote control mode',\n",
    " 'itf_In_AOR_str_aorIn_RCUI_rcMode_status': '',\n",
    " 'itf_In_AOR_str_aorIn_RSP_spoolPos1B_status': '',\n",
    " 'itf_In_AOR_str_aorIn_RSP_spoolPos1B_val': '',\n",
    " 'itf_In_AOR_str_aorIn_SMOD_stationaryMode_status': '',\n",
    " 'itf_In_AOR_str_aorIn_SMOD_stationaryMode_val': 'stationary mode'}"
   ]
  },
  {
   "cell_type": "code",
   "execution_count": null,
   "metadata": {},
   "outputs": [],
   "source": [
    "new_signals = dict([(value,key) for (key,value) in signals.items()])"
   ]
  },
  {
   "cell_type": "code",
   "execution_count": null,
   "metadata": {},
   "outputs": [],
   "source": [
    "pp.pprint(new_signals)"
   ]
  },
  {
   "cell_type": "code",
   "execution_count": null,
   "metadata": {},
   "outputs": [],
   "source": [
    "stra = \"| 4. | Check signal value of `SSV Dump1 Control Request` | Signal value of `SSV Dump1 Control Request`= 0 \"\n",
    "spliff=stra.split(\"|\")\n",
    "newstr = ''.join((ch if ch in '0123456789.-' else ' ') for ch in spliff[3])\n",
    "newstr.split()"
   ]
  },
  {
   "cell_type": "code",
   "execution_count": null,
   "metadata": {},
   "outputs": [],
   "source": [
    "listOfNumbers = []\n",
    "\n",
    "for i in newstr.split():\n",
    "\n",
    "    # The try/except is necessary to filter out cases like | - |\n",
    "    try:\n",
    "        listOfNumbers.append(float(i))\n",
    "    except:\n",
    "        continue\n",
    "\n",
    "print(listOfNumbers)"
   ]
  },
  {
   "cell_type": "code",
   "execution_count": null,
   "metadata": {},
   "outputs": [],
   "source": [
    "stra = \"| 1. | Set signal value of `PWM control slew` = -1 | - |\"\n",
    "spliff=stra.split(\"|\")"
   ]
  },
  {
   "cell_type": "code",
   "execution_count": null,
   "metadata": {},
   "outputs": [],
   "source": [
    "spliff[2]"
   ]
  },
  {
   "cell_type": "code",
   "execution_count": null,
   "metadata": {},
   "outputs": [],
   "source": [
    "str(2.0)"
   ]
  },
  {
   "cell_type": "code",
   "execution_count": null,
   "metadata": {},
   "outputs": [],
   "source": [
    "test_obj = ['Set1', 'Set2', 'Set3', '//Comment1', 'Set4', 'Set5', 'Wait1', 'Compare1', 'Compare2', 'Set6', 'Set7', 'Wait2', 'Compare3', 'Compare4', 'Wait3', 'Compare5', 'Compare6']\n",
    "expected_test_obj = ['Set1', 'Set2', 'Set3', '//Comment1', 'Set4', 'Set5', 'Compare1', 'Compare2', 'Wait1', 'Set6', 'Set7', 'Compare3', 'Compare4', 'Wait2']"
   ]
  },
  {
   "cell_type": "code",
   "execution_count": null,
   "metadata": {},
   "outputs": [],
   "source": [
    "#     for i, step in enumerate(test_obj):\n",
    "i = 0 \n",
    "\n",
    "while i < len(test_obj):\n",
    "    \n",
    "#     print(f\"i={i}\")\n",
    "    \n",
    "    if 'Wait' in test_obj[i]:\n",
    "\n",
    "#         print(f\"found {test_obj[i]} at pos {i}\")\n",
    "\n",
    "        slice_test_obj=test_obj[i+1:]\n",
    "\n",
    "#         print(f\"slice_test_obj={slice_test_obj}\")\n",
    "\n",
    "        # Find the last 'Check' from the next chunck of 'Checks'\n",
    "        j = 1\n",
    "        \n",
    "        while j < len(slice_test_obj):\n",
    "            \n",
    "#             print(f\"i={i}\")\n",
    "#             print(f\"j={j}\")\n",
    "#             print(f\"{slice_test_obj[j]} at pos {i+j}\")\n",
    "            \n",
    "            if 'Compare' in slice_test_obj[j]:\n",
    "                j += 1\n",
    "                continue\n",
    "            else:\n",
    "                break\n",
    "\n",
    "#         print(f\"insert at pos {i+j}, from pos {i}\")\n",
    "\n",
    "        # Insert step at position i+j and remove it from position i\n",
    "        test_obj.insert(i+j, test_obj.pop(i))\n",
    "        \n",
    "#         print(f\"new list={test_obj}\")\n",
    "\n",
    "        # continue search from position i+j\n",
    "        i = i+j+1\n",
    "    \n",
    "    else:\n",
    "        i += 1\n"
   ]
  },
  {
   "cell_type": "code",
   "execution_count": null,
   "metadata": {},
   "outputs": [],
   "source": []
  }
 ],
 "metadata": {
  "kernelspec": {
   "display_name": "Python 3",
   "language": "python",
   "name": "python3"
  },
  "language_info": {
   "codemirror_mode": {
    "name": "ipython",
    "version": 3
   },
   "file_extension": ".py",
   "mimetype": "text/x-python",
   "name": "python",
   "nbconvert_exporter": "python",
   "pygments_lexer": "ipython3",
   "version": "3.8.5"
  }
 },
 "nbformat": 4,
 "nbformat_minor": 4
}
